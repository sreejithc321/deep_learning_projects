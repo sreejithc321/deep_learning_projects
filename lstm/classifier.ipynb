{
 "cells": [
  {
   "cell_type": "code",
   "execution_count": 1,
   "metadata": {},
   "outputs": [
    {
     "name": "stderr",
     "output_type": "stream",
     "text": [
      "Using TensorFlow backend.\n"
     ]
    },
    {
     "name": "stdout",
     "output_type": "stream",
     "text": [
      "[[8, 12, 20, 23], [20, 16, 3, 12, 18], [8, 13, 24, 21, 12, 3, 12], [20, 16, 15, 3, 10], [10, 3, 5, 17], [8, 21, 1, 9, 20, 9], [8, 7, 23, 22, 20, 9], [8, 20, 5, 1, 20], [12, 16, 15, 20, 1], [15, 16, 16, 4]]\n",
      "[[ 8 12 20 23  0  0]\n",
      " [20 16  3 12 18  0]\n",
      " [13 24 21 12  3 12]\n",
      " [20 16 15  3 10  0]\n",
      " [10  3  5 17  0  0]\n",
      " [ 8 21  1  9 20  9]\n",
      " [ 8  7 23 22 20  9]\n",
      " [ 8 20  5  1 20  0]\n",
      " [12 16 15 20  1  0]\n",
      " [15 16 16  4  0  0]]\n",
      "_________________________________________________________________\n",
      "Layer (type)                 Output Shape              Param #   \n",
      "=================================================================\n",
      "embedding_1 (Embedding)      (None, 6, 10)             250       \n",
      "_________________________________________________________________\n",
      "flatten_1 (Flatten)          (None, 60)                0         \n",
      "_________________________________________________________________\n",
      "dense_1 (Dense)              (None, 1)                 61        \n",
      "=================================================================\n",
      "Total params: 311\n",
      "Trainable params: 311\n",
      "Non-trainable params: 0\n",
      "_________________________________________________________________\n",
      "None\n",
      "Accuracy: 100.000000\n"
     ]
    }
   ],
   "source": [
    "from keras.preprocessing.text import one_hot\n",
    "from keras.preprocessing.sequence import pad_sequences\n",
    "from keras.models import Sequential\n",
    "from keras.layers import Dense\n",
    "from keras.layers import Flatten\n",
    "from keras.layers.embeddings import Embedding\n",
    "\n",
    "     \n",
    "# define documents\n",
    "docs = ['I love this sandwich',\n",
    "        'this is an amazing place!',\n",
    "        'I feel very good about these beers.',\n",
    "        'this is my best work.',\n",
    "        'what an awesome view',\n",
    "        'I do not like this restaurant',\n",
    "        'I am tired of this stuff.',\n",
    "        'I can\\'t deal with this',\n",
    "        'he is my sworn enemy!',\n",
    "        'my boss is horrible.']\n",
    "\n",
    "# define class labels\n",
    "labels = [1,1,1,1,1,0,0,0,0,0]\n",
    "\n",
    "# integer encode the documents\n",
    "vocab_size = 25\n",
    "encoded_docs = [one_hot(d, vocab_size) for d in docs]\n",
    "print(encoded_docs)\n",
    "\n",
    "# pad documents to a max length of 4 words\n",
    "max_length = 6\n",
    "padded_docs = pad_sequences(encoded_docs, maxlen=max_length, padding='post')\n",
    "print(padded_docs)\n",
    "\n",
    "# define the model\n",
    "model = Sequential()\n",
    "model.add(Embedding(vocab_size, 10, input_length=max_length))\n",
    "model.add(Flatten())\n",
    "model.add(Dense(1, activation='sigmoid'))\n",
    "\n",
    "# compile the model\n",
    "model.compile(optimizer='adam', loss='binary_crossentropy', metrics=['acc'])\n",
    "\n",
    "# summarize the model\n",
    "print(model.summary())\n",
    "\n",
    "# fit the model\n",
    "model.fit(padded_docs, labels, epochs=50, verbose=0)\n",
    "\n",
    "# evaluate the model\n",
    "loss, accuracy = model.evaluate(padded_docs, labels, verbose=0)\n",
    "print('Accuracy: %f' % (accuracy*100))"
   ]
  },
  {
   "cell_type": "code",
   "execution_count": 2,
   "metadata": {},
   "outputs": [
    {
     "name": "stdout",
     "output_type": "stream",
     "text": [
      "the beer was good.  :  [1]\n",
      "I do not enjoy my job  :  [0]\n",
      "I feel amazing!  :  [1]\n",
      "I can't believe I'm doing this.  :  [0]\n"
     ]
    }
   ],
   "source": [
    "testset = [\n",
    "       ('the beer was good.', 'pos'),\n",
    "       ('I do not enjoy my job', 'neg'),\n",
    "       (\"I feel amazing!\", 'pos'),\n",
    "       (\"I can't believe I'm doing this.\", 'neg')\n",
    "       ]\n",
    "\n",
    "for item in testset:\n",
    "    test =item[0]\n",
    "    encoded = one_hot(test, vocab_size) \n",
    "    padded = pad_sequences([encoded], maxlen=max_length, padding='post')\n",
    "    print (test, ' : ', model.predict_classes(padded)[0])"
   ]
  },
  {
   "cell_type": "code",
   "execution_count": null,
   "metadata": {},
   "outputs": [],
   "source": []
  }
 ],
 "metadata": {
  "kernelspec": {
   "display_name": "Python 3",
   "language": "python",
   "name": "python3"
  },
  "language_info": {
   "codemirror_mode": {
    "name": "ipython",
    "version": 3
   },
   "file_extension": ".py",
   "mimetype": "text/x-python",
   "name": "python",
   "nbconvert_exporter": "python",
   "pygments_lexer": "ipython3",
   "version": "3.4.3"
  }
 },
 "nbformat": 4,
 "nbformat_minor": 2
}
